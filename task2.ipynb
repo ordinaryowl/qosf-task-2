{
 "cells": [
  {
   "cell_type": "code",
   "execution_count": 1,
   "metadata": {},
   "outputs": [],
   "source": [
    "import numpy as np \n",
    "import random as rd\n",
    "from numpy import sin,cos \n",
    "import matplotlib.pyplot as plt"
   ]
  },
  {
   "cell_type": "code",
   "execution_count": 3,
   "metadata": {},
   "outputs": [],
   "source": [
    "def prob_from_measurement(a,b,c,n_meas=1):\n",
    "    \n",
    "    p0=cos(c/2)**2*(cos(a/2)**2*cos(b/2)**2+sin(a/2)**2*sin(b/2)**2)\n",
    "    p1=sin(c/2)**2*(cos(a/2)**2*cos(b/2)**2+sin(a/2)**2*sin(b/2)**2)\n",
    "    p2=sin(c/2)**2*(cos(a/2)**2*sin(b/2)**2+sin(a/2)**2*cos(b/2)**2)\n",
    "    p3=cos(c/2)**2*(cos(a/2)**2*sin(b/2)**2+sin(a/2)**2*cos(b/2)**2)\n",
    "\n",
    "    meas_outcomes=rd.choices([0,1,2,3],[p0,p1,p2,p3],k=n_meas)\n",
    "    P0=meas_outcomes.count(0)/n_meas\n",
    "    P1=meas_outcomes.count(1)/n_meas\n",
    "    P2=meas_outcomes.count(2)/n_meas\n",
    "    P3=meas_outcomes.count(3)/n_meas\n",
    "\n",
    "    return P0,P1,P2,P3 "
   ]
  },
  {
   "cell_type": "code",
   "execution_count": 4,
   "metadata": {},
   "outputs": [],
   "source": [
    "def loss_function(p0,p1,p2,p3):\n",
    "    return p0**2+(p1-0.5)**2+(p2-0.5)**2+p3**2"
   ]
  },
  {
   "cell_type": "code",
   "execution_count": 5,
   "metadata": {},
   "outputs": [],
   "source": [
    "def gradient(a,b,c,p0,p1,p2,p3):\n",
    "\n",
    "    grad_a=sin(a)*cos(b)*(cos(c/2)**2*(p3-p0)+sin(c/2)**2*(p2-p1))\n",
    "    grad_b=sin(b)*cos(a)*(cos(c/2)**2*(p3-p0)+sin(c/2)**2*(p2-p1))\n",
    "    grad_c_term1=sin(c)*((cos(a/2)**2*cos(b/2)**2+sin(a/2)**2*sin(b/2)**2)*(p1-p0-0.5))\n",
    "    grad_c_term2=sin(c)*((cos(a/2)**2*sin(b/2)**2+sin(a/2)**2*cos(b/2)**2)*(p3-p2+0.5))\n",
    "    grad_c=grad_c_term1+grad_c_term2\n",
    "    return grad_a,grad_b,grad_c"
   ]
  },
  {
   "cell_type": "code",
   "execution_count": 6,
   "metadata": {},
   "outputs": [],
   "source": [
    "def gradient_descent(err=10**-8,rate=1,max_steps=10000,n_meas=10):\n",
    "    #err=0.01,rate=1,max_steps=100,n_meas=100\n",
    "    a=0.1;b=0.1;c=0.1\t\n",
    "    # a,b,c=np.random.uniform(0.1,3.14,3)\n",
    "    step=1\n",
    "    P0,P1,P2,P3=prob_from_measurement(a,b,c,n_meas)\n",
    "    grad=np.array(gradient(a,b,c,P0,P1,P2,P3))\n",
    "    a-=grad[0]*rate\n",
    "    b-=grad[1]*rate\n",
    "    c-=grad[2]*rate\n",
    "    e=loss_function(P0,P1,P2,P3)\n",
    "    print('step:%d| a:%0.5f b:%0.5f c:%0.5f| error:%0.2e| prob: %.2f,%.2f,%.2f,%.2f'%(step,a,b,c,e,P0,P1,P2,P3))\t\n",
    "    while(e>err and step<max_steps):\n",
    "        step+=1\n",
    "        P0,P1,P2,P3=prob_from_measurement(a,b,c,n_meas)\n",
    "        grad=np.array(gradient(a,b,c,P0,P1,P2,P3))\n",
    "        a-=grad[0]*rate\n",
    "        b-=grad[1]*rate\n",
    "        c-=grad[2]*rate\n",
    "        e=loss_function(P0,P1,P2,P3)\n",
    "        print('step:%d| a:%0.5f b:%0.5f c:%0.5f| error:%0.2e| prob: %.2f,%.2f,%.2f,%.2f'%(step,a,b,c,e,P0,P1,P2,P3))\n",
    "    return a"
   ]
  },
  {
   "cell_type": "code",
   "execution_count": 7,
   "metadata": {},
   "outputs": [],
   "source": [
    "def plot_bc(a):\n",
    "    # fig = plt.figure()\n",
    "    # ax = fig.gca(projection='3d')\n",
    "    # from matplotlib import cm\n",
    "    # a=np.pi\n",
    "    fig,ax=plt.subplots(figsize=(6,6))\n",
    "    b = np.arange(0, np.pi+0.2, 0.1)\n",
    "    c = np.arange(0, 2*np.pi+0.2, 0.1)\n",
    "    b, c = np.meshgrid(b, c)\n",
    "    p0=cos(c/2)**2*(cos(a/2)**2*cos(b/2)**2+sin(a/2)**2*sin(b/2)**2)\n",
    "    p1=sin(c/2)**2*(cos(a/2)**2*cos(b/2)**2+sin(a/2)**2*sin(b/2)**2)\n",
    "    p2=sin(c/2)**2*(cos(a/2)**2*sin(b/2)**2+sin(a/2)**2*cos(b/2)**2)\n",
    "    p3=cos(c/2)**2*(cos(a/2)**2*sin(b/2)**2+sin(a/2)**2*cos(b/2)**2)\n",
    "    Z=p0**2+(p1-0.5)**2+(p2-0.5)**2+p3**2\n",
    "    # surf = ax.contour(b, c, Z,cmap=cm.coolwarm)\n",
    "    cf=ax.contourf(b,c,Z)\n",
    "    fig.colorbar(cf, ax=ax)\n",
    "    ax.set_xlabel('$b$', fontsize=20)\n",
    "    ax.set_title('$a=%0.2f$'%(a),fontsize=20)\n",
    "    ax.set_ylabel('$c$',fontsize=20)\n",
    "    plt.show()"
   ]
  },
  {
   "cell_type": "code",
   "execution_count": null,
   "metadata": {},
   "outputs": [],
   "source": []
  }
 ],
 "metadata": {
  "kernelspec": {
   "display_name": "Python 3",
   "language": "python",
   "name": "python3"
  },
  "language_info": {
   "codemirror_mode": {
    "name": "ipython",
    "version": 3
   },
   "file_extension": ".py",
   "mimetype": "text/x-python",
   "name": "python",
   "nbconvert_exporter": "python",
   "pygments_lexer": "ipython3",
   "version": "3.6.9"
  }
 },
 "nbformat": 4,
 "nbformat_minor": 4
}
