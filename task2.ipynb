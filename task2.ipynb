{
 "cells": [
  {
   "attachments": {},
   "cell_type": "markdown",
   "metadata": {},
   "source": [
    "# qosf: Task 2\n",
    "## Objective: To optimise a parametric quantum circuit of choice to return $|01\\rangle$ and $|10\\rangle$ with equal probabilities\n",
    "## Constraints:\n",
    "- The circuit should be a combination of gates fromed using the gates $R_x$,$R_y$ and $CNOT$, where:\n",
    "\\begin{align}\n",
    "R_x(\\theta)=&cos(\\theta/2)\\cdot\\mathbb{1}+isin(\\theta/2)\\cdot\\sigma_x\\\\\n",
    "R_y(\\theta)=&cos(\\theta/2)\\cdot\\mathbb{1}+isin(\\theta/2)\\cdot\\sigma_y\\\\\n",
    "\\end{align}\n",
    "- Input to the circuit is taken to be $|00\\rangle$.\n",
    "- Parameters of the gates to be optimised by performing $n=1,10,100,1000$ quantum measurements with noise.\n",
    "\n",
    "## Sketch of the solution:\n",
    "### I propose the following quantum circuit, as I know at least 2 possible ways $(a,b,c)=(\\pi/2,\\pi/2,\\pi)$ and $(a,b,c)=(\\pi,\\pi/2,\\pi)$ to obtain the desired output, that is, equal superposition of  $|01\\rangle$ and $|10\\rangle$.\n",
    "\n",
    "<div>\n",
    "<img src=\"circuit.png\" width=\"400\"/>\n",
    "</div>\n",
    "\n",
    "### In order to find the action of this circuit on the input state $|00\\rangle$, we first compute the action of the operators prior to $CNOT$, then take the $CNOT$ on the resultant two qubit state. Following is the algebra:\n",
    "\n",
    "### Top branch:\n",
    "- $R_x(a)|0\\rangle=[cos\\frac{a}{2}\\cdot\\mathbb{1}+isin\\frac{a}{2}\\cdot\\sigma_x]|0\\rangle=cos\\frac{a}{2}|0\\rangle+isin\\frac{a}{2}|1\\rangle$\n",
    "- $R_y(b)|0\\rangle=[cos\\frac{b}{2}\\cdot\\mathbb{1}+isin\\frac{b}{2}\\cdot\\sigma_y]|0\\rangle=cos\\frac{b}{2}|0\\rangle-sin\\frac{b}{2}|1\\rangle$\n",
    "- $R_y(b)|1\\rangle=[cos\\frac{b}{2}\\cdot\\mathbb{1}+isin\\frac{b}{2}\\cdot\\sigma_y]|1\\rangle=cos\\frac{b}{2}|1\\rangle+sin\\frac{b}{2}|0\\rangle$\n",
    "<br><br>\n",
    "- $R_y(b)\\cdot R_x(a)|0\\rangle=R_y(b)\\cdot[cos\\frac{a}{2}|0\\rangle+isin\\frac{a}{2}|1\\rangle]$\n",
    "<br>\n",
    "$=cos\\frac{a}{2}\\cdot [R_y(b)|0\\rangle]+isin\\frac{a}{2}\\cdot [R_y(b)|1\\rangle]$\n",
    "<br>\n",
    "$=cos\\frac{a}{2}\\cdot [cos\\frac{b}{2}|0\\rangle-sin\\frac{b}{2}|1\\rangle]+isin\\frac{a}{2}\\cdot[cos\\frac{b}{2}|1\\rangle+sin\\frac{b}{2}|0\\rangle]$\n",
    "<br>\n",
    "$=[cos\\frac{a}{2}cos\\frac{b}{2}+isin\\frac{a}{2}sin\\frac{b}{2}]|0\\rangle+[-cos\\frac{a}{2}sin\\frac{b}{2}+isin\\frac{a}{2}cos\\frac{b}{2}]|1\\rangle$\n",
    "\n",
    "### Bottom branch:\n",
    "- $R_x(c)|0\\rangle=[cos\\frac{c}{2}\\cdot\\mathbb{1}+isin\\frac{c}{2}\\cdot\\sigma_x]|0\\rangle=cos\\frac{c}{2}|0\\rangle+isin\\frac{c}{2}|1\\rangle$\n",
    "\n",
    "### Taking tensor product (just before CNOT):\n",
    "- $[R_y(b)\\cdot R_x(a)|0\\rangle] \\otimes R_x(c)|0\\rangle$\n",
    "<br>\n",
    "$=|00\\rangle[cos\\frac{a}{2}cos\\frac{b}{2}cos\\frac{c}{2}+isin\\frac{a}{2}sin\\frac{b}{2}cos\\frac{c}{2}]$\n",
    "<br>\n",
    "$+\\ |01\\rangle[icos\\frac{a}{2}cos\\frac{b}{2}sin\\frac{c}{2}-sin\\frac{a}{2}sin\\frac{b}{2}sin\\frac{c}{2}]$\n",
    "<br>\n",
    "$+\\ |10\\rangle[-cos\\frac{a}{2}sin\\frac{b}{2}cos\\frac{c}{2}+isin\\frac{a}{2}cos\\frac{b}{2}cos\\frac{c}{2}]$\n",
    "<br>\n",
    "$+\\ |11\\rangle[-icos\\frac{a}{2}sin\\frac{b}{2}sin\\frac{c}{2}-sin\\frac{a}{2}cos\\frac{b}{2}sin\\frac{c}{2}]$\n",
    "\n",
    "### Apply CNOT (that is swap $|10\\rangle\\leftrightarrow|11\\rangle$):\n",
    "- Output state is given by, $|\\psi\\rangle$\n",
    "<br><br>\n",
    "$=|00\\rangle[cos\\frac{a}{2}cos\\frac{b}{2}cos\\frac{c}{2}+isin\\frac{a}{2}sin\\frac{b}{2}cos\\frac{c}{2}]$\n",
    "<br>\n",
    "$+\\ |01\\rangle[icos\\frac{a}{2}cos\\frac{b}{2}sin\\frac{c}{2}-sin\\frac{a}{2}sin\\frac{b}{2}sin\\frac{c}{2}]$\n",
    "<br>\n",
    "$+\\ |10\\rangle[-icos\\frac{a}{2}sin\\frac{b}{2}sin\\frac{c}{2}-sin\\frac{a}{2}cos\\frac{b}{2}sin\\frac{c}{2}]$\n",
    "<br>\n",
    "$+\\ |11\\rangle[-cos\\frac{a}{2}sin\\frac{b}{2}cos\\frac{c}{2}+isin\\frac{a}{2}cos\\frac{b}{2}cos\\frac{c}{2}]$\n",
    "<br><br>\n",
    "$\\equiv f_0|00\\rangle+f_1|01\\rangle+f_2|10\\rangle+f_3|11\\rangle$\n"
   ]
  },
  {
   "cell_type": "code",
   "execution_count": 1,
   "metadata": {},
   "outputs": [],
   "source": [
    "import numpy as np \n",
    "import random as rd\n",
    "from numpy import sin,cos \n",
    "import matplotlib.pyplot as plt"
   ]
  },
  {
   "cell_type": "code",
   "execution_count": 2,
   "metadata": {},
   "outputs": [],
   "source": [
    "def prob_from_measurement(a,b,c,n_meas=1):\n",
    "    \n",
    "    p0=cos(c/2)**2*(cos(a/2)**2*cos(b/2)**2+sin(a/2)**2*sin(b/2)**2)\n",
    "    p1=sin(c/2)**2*(cos(a/2)**2*cos(b/2)**2+sin(a/2)**2*sin(b/2)**2)\n",
    "    p2=sin(c/2)**2*(cos(a/2)**2*sin(b/2)**2+sin(a/2)**2*cos(b/2)**2)\n",
    "    p3=cos(c/2)**2*(cos(a/2)**2*sin(b/2)**2+sin(a/2)**2*cos(b/2)**2)\n",
    "\n",
    "    meas_outcomes=rd.choices([0,1,2,3],[p0,p1,p2,p3],k=n_meas)\n",
    "    P0=meas_outcomes.count(0)/n_meas\n",
    "    P1=meas_outcomes.count(1)/n_meas\n",
    "    P2=meas_outcomes.count(2)/n_meas\n",
    "    P3=meas_outcomes.count(3)/n_meas\n",
    "\n",
    "    return P0,P1,P2,P3 "
   ]
  },
  {
   "cell_type": "code",
   "execution_count": 3,
   "metadata": {},
   "outputs": [],
   "source": [
    "def loss_function(p0,p1,p2,p3):\n",
    "    return p0**2+(p1-0.5)**2+(p2-0.5)**2+p3**2"
   ]
  },
  {
   "cell_type": "code",
   "execution_count": 4,
   "metadata": {},
   "outputs": [],
   "source": [
    "def gradient(a,b,c,p0,p1,p2,p3):\n",
    "\n",
    "    grad_a=sin(a)*cos(b)*(cos(c/2)**2*(p3-p0)+sin(c/2)**2*(p2-p1))\n",
    "    grad_b=sin(b)*cos(a)*(cos(c/2)**2*(p3-p0)+sin(c/2)**2*(p2-p1))\n",
    "    grad_c_term1=sin(c)*((cos(a/2)**2*cos(b/2)**2+sin(a/2)**2*sin(b/2)**2)*(p1-p0-0.5))\n",
    "    grad_c_term2=sin(c)*((cos(a/2)**2*sin(b/2)**2+sin(a/2)**2*cos(b/2)**2)*(p3-p2+0.5))\n",
    "    grad_c=grad_c_term1+grad_c_term2\n",
    "    return grad_a,grad_b,grad_c"
   ]
  },
  {
   "cell_type": "code",
   "execution_count": 8,
   "metadata": {},
   "outputs": [],
   "source": [
    "def gradient_descent(err=10**-8,rate=1,max_steps=10000,n_meas=10):\n",
    "    #err=0.01,rate=1,max_steps=100,n_meas=100\n",
    "    a=0.1;b=0.1;c=0.1\t\n",
    "    # a,b,c=np.random.uniform(0.1,3.14,3)\n",
    "    step=1\n",
    "    P0,P1,P2,P3=prob_from_measurement(a,b,c,n_meas)\n",
    "    grad=np.array(gradient(a,b,c,P0,P1,P2,P3))\n",
    "    a-=grad[0]*rate\n",
    "    b-=grad[1]*rate\n",
    "    c-=grad[2]*rate\n",
    "    e=loss_function(P0,P1,P2,P3)\n",
    "    print('step:%d|  a:%0.5f b:%0.5f c:%0.5f|  error:%0.2e|  prob: %.2f,%.2f,%.2f,%.2f'%(step,a,b,c,e,P0,P1,P2,P3))\t\n",
    "    while(e>err and step<max_steps):\n",
    "        step+=1\n",
    "        P0,P1,P2,P3=prob_from_measurement(a,b,c,n_meas)\n",
    "        grad=np.array(gradient(a,b,c,P0,P1,P2,P3))\n",
    "        a-=grad[0]*rate\n",
    "        b-=grad[1]*rate\n",
    "        c-=grad[2]*rate\n",
    "        e=loss_function(P0,P1,P2,P3)\n",
    "        print('step:%d|  a:%0.5f b:%0.5f c:%0.5f|  error:%0.2e|  prob: %.2f,%.2f,%.2f,%.2f'%(step,a,b,c,e,P0,P1,P2,P3))\t\n",
    "    return a"
   ]
  },
  {
   "cell_type": "code",
   "execution_count": 9,
   "metadata": {},
   "outputs": [],
   "source": [
    "def plot_bc(a):\n",
    "    fig,ax=plt.subplots(figsize=(6,6))\n",
    "    b = np.arange(0, np.pi+0.2, 0.1)\n",
    "    c = np.arange(0, 2*np.pi+0.2, 0.1)\n",
    "    b, c = np.meshgrid(b, c)\n",
    "    p0=cos(c/2)**2*(cos(a/2)**2*cos(b/2)**2+sin(a/2)**2*sin(b/2)**2)\n",
    "    p1=sin(c/2)**2*(cos(a/2)**2*cos(b/2)**2+sin(a/2)**2*sin(b/2)**2)\n",
    "    p2=sin(c/2)**2*(cos(a/2)**2*sin(b/2)**2+sin(a/2)**2*cos(b/2)**2)\n",
    "    p3=cos(c/2)**2*(cos(a/2)**2*sin(b/2)**2+sin(a/2)**2*cos(b/2)**2)\n",
    "    Z=p0**2+(p1-0.5)**2+(p2-0.5)**2+p3**2\n",
    "\n",
    "    cf=ax.contourf(b,c,Z)\n",
    "    fig.colorbar(cf, ax=ax)\n",
    "    ax.set_xlabel('$b$', fontsize=20)\n",
    "    ax.set_title('$a=%0.2f$'%(a),fontsize=20)\n",
    "    ax.set_ylabel('$c$',fontsize=20)\n",
    "    plt.show()"
   ]
  },
  {
   "cell_type": "code",
   "execution_count": 10,
   "metadata": {},
   "outputs": [
    {
     "name": "stdout",
     "output_type": "stream",
     "text": [
      "step:1|  a:0.19909 b:0.19909 c:0.24876|  error:1.50e+00|  prob: 1.00,0.00,0.00,0.00\n",
      "step:2|  a:0.38997 b:0.38997 c:0.60842|  error:1.50e+00|  prob: 1.00,0.00,0.00,0.00\n",
      "step:3|  a:0.58201 b:0.58201 c:1.26886|  error:1.18e+00|  prob: 0.80,0.00,0.00,0.20\n",
      "step:4|  a:0.82527 b:0.82527 c:1.76409|  error:6.20e-01|  prob: 0.60,0.40,0.00,0.00\n",
      "step:5|  a:0.97479 b:0.97479 c:1.89957|  error:1.80e-01|  prob: 0.30,0.50,0.20,0.00\n",
      "step:6|  a:1.11416 b:1.11416 c:2.04868|  error:3.40e-01|  prob: 0.40,0.40,0.10,0.10\n",
      "step:7|  a:1.15373 b:1.15373 c:2.10048|  error:1.00e-01|  prob: 0.20,0.40,0.30,0.10\n",
      "step:8|  a:1.11670 b:1.11670 c:2.17128|  error:2.60e-01|  prob: 0.20,0.20,0.30,0.30\n",
      "step:9|  a:1.17839 b:1.17839 c:2.08877|  error:2.00e-02|  prob: 0.00,0.60,0.40,0.00\n",
      "step:10|  a:1.21373 b:1.21373 c:2.10148|  error:2.00e-02|  prob: 0.10,0.50,0.40,0.00\n",
      "step:11|  a:1.08193 b:1.08193 c:2.46754|  error:2.40e-01|  prob: 0.20,0.10,0.70,0.00\n",
      "step:12|  a:1.22964 b:1.22964 c:2.34270|  error:8.00e-02|  prob: 0.00,0.70,0.30,0.00\n",
      "step:13|  a:1.23918 b:1.23918 c:2.43040|  error:6.00e-02|  prob: 0.20,0.40,0.40,0.00\n",
      "step:14|  a:1.20840 b:1.20840 c:2.43732|  error:2.00e-02|  prob: 0.00,0.40,0.50,0.10\n",
      "step:15|  a:1.20840 b:1.20840 c:2.43732|  error:0.00e+00|  prob: 0.00,0.50,0.50,0.00\n"
     ]
    },
    {
     "data": {
      "image/png": "[encoded data removed]",
      "text/plain": [
       "<Figure size 432x432 with 2 Axes>"
      ]
     },
     "metadata": {
      "needs_background": "light"
     },
     "output_type": "display_data"
    }
   ],
   "source": [
    "a=gradient_descent()\n",
    "plot_bc(a)"
   ]
  },
  {
   "cell_type": "code",
   "execution_count": null,
   "metadata": {},
   "outputs": [],
   "source": []
  }
 ],
 "metadata": {
  "kernelspec": {
   "display_name": "Python 3",
   "language": "python",
   "name": "python3"
  },
  "language_info": {
   "codemirror_mode": {
    "name": "ipython",
    "version": 3
   },
   "file_extension": ".py",
   "mimetype": "text/x-python",
   "name": "python",
   "nbconvert_exporter": "python",
   "pygments_lexer": "ipython3",
   "version": "3.6.9"
  }
 },
 "nbformat": 4,
 "nbformat_minor": 4
}
